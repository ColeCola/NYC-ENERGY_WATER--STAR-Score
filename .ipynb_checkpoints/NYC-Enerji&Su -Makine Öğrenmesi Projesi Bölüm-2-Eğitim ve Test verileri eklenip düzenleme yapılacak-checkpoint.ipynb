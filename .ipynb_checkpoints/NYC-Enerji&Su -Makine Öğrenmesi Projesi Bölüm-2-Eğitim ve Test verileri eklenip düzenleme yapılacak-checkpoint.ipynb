{
 "cells": [
  {
   "cell_type": "markdown",
   "metadata": {},
   "source": [
    "## Makine Öğrenimi Projesi Bölüm-2\n",
    "\n",
    "Bu çalışma örneğimizde \"denetimli(supervised)\" bir regresyon makinesi öğrenme problemi üzerinde çalışıyoruz. Gerçek dünyadaki New York şehri bina enerji verilerini kullanarak, bir binanın Enerji Yıldız Puanını tahmin etmek ve Yıldız Puanı'nı etkileyen faktörleri belirlemek istiyoruz.\n",
    "\n",
    "Projemizi yapılandırmak için makine öğrenmesi aşamalarının genel taslağını kullanıyoruz:\n",
    "\n",
    "     1. Veri temizleme ve biçimlendirme\n",
    "     2. Keşifsel veri analizi\n",
    "     3. Özellik mühendisliği ve seçimi\n",
    "     4. Bir performans metriğinde çeşitli makine öğrenim modellerinin karşılaştırılması\n",
    "     5. Problem için optimize etmek üzere en iyi modele hiperparametre ayarlaması yapılması\n",
    "     6. Test seti üzerinde en iyi modelin değerlendirilmesi\n",
    "     7. Model sonuçlarının mümkün olduğu kadar yorumlanması\n",
    "     8. Sonuçların görselleştirilip ve iyi bir raporun yazılması\n",
    "     \n",
    "Serinin ilk bölümü yukarıda belirtilen adımların 1-2-3'ü kapsıyordu ve bu çalışmada 4-5-6'yı ele alacağız. Bu çalışmada, detaylardan ziyade uygulamalara daha çok odaklanıyoruz ve makine öğrenme yöntemleri konuları ile ilgili daha fazla detay arayanlar için, Aurelien Geron tarafından Scikit-Learn ve Tensorflow ile Hands-On Machine Learning  kiptalarını incelemelerini öneririm. Bu, algoritmaların arkasındaki temel teori için mükemmel bir kaynak ve bunları Python'da nasıl etkin bir şekilde kullanacaksınız bunları güzel bir şekilde açıklayor!\n",
    "\n",
    "[Link ->](http://shop.oreilly.com/product/0636920052289.do)\n",
    "\n",
    "İlgili Kütüphaneleri ekleyerek projemizi kodlamaya başlıyoruz:\n",
    "\n",
    "Bu projede standart veri bilimi ve makine öğrenmesi kütüphanelerini kullanacağız."
   ]
  },
  {
   "cell_type": "code",
   "execution_count": 1,
   "metadata": {},
   "outputs": [],
   "source": [
    "#Verilerin işlenmesi için Pandas ve Numpy kütüphanelerini öncelikle ekliyoruz\n",
    "import pandas as pd\n",
    "import numpy as np\n",
    "\n",
    "#Bölümler arasında hata uyarısı almamak için uyarıları kapatıyoruz\n",
    "pd.options.mode.chained_assignment = None\n",
    "pd.set_option('display.max_columns', 60)\n",
    "\n",
    "#Görselleştirme için Matplotlib  ve seaborn kütüphanelerini ekliyoruz\n",
    "import matplotlib.pyplot as plt\n",
    "%matplotlib inline\n",
    "import seaborn as sns\n",
    "sns.set(font_scale = 2)\n",
    "\n",
    "#Varsayılan font boyutunu belirtiyoruz\n",
    "plt.rcParams['font.size'] = 24\n",
    "\n",
    "from IPython.core.pylabtools import figsize\n",
    "\n",
    "#Eksik değerleri ve ölçekleme değerlerini ekliyoruz\n",
    "from sklearn.preprocessing import Imputer, MinMaxScaler\n",
    "\n",
    "#Makine Öğrenmesi Modellerini ekliyoruz\n",
    "from sklearn.linear_model import LinearRegression\n",
    "from sklearn.ensemble import RandomForestRegressor, GradientBoostingRegressor\n",
    "from sklearn.svm import SVR\n",
    "from sklearn.neighbors import KNeighborsRegressor\n",
    "\n",
    "#Hiperparametre ayarlaması\n",
    "from sklearn.model_selection import RandomizedSearchCV, GridSearchCV"
   ]
  },
  {
   "cell_type": "markdown",
   "metadata": {},
   "source": [
    "### Verileri Okuyoruz\n",
    "Bir önceki çalışmamızdan edindiğimiz verileri okuyoruz"
   ]
  },
  {
   "cell_type": "code",
   "execution_count": null,
   "metadata": {},
   "outputs": [],
   "source": [
    "# Veriçerçevesinden verileri okuyoruz\n",
    "train_features = pd.read_csv('data/training_features.csv')\n",
    "test_features = pd.read_csv('data/testing_features.csv')\n",
    "train_labels = pd.read_csv('data/training_labels.csv')\n",
    "test_labels = pd.read_csv('data/testing_labels.csv')\n",
    "\n",
    "test = pd.read_csv('train_features')\n",
    "# Verilerin boyutlarını yazdırıyoruz\n",
    "print('Eğitim verileri özellik boyutu: ', train_features.shape)\n",
    "print('Test verileri özellik boyutu:  ', test_features.shape)\n",
    "print('Eğitim etiketleri boyutu:  ', train_labels.shape)\n",
    "print('Test etiketleri boyutu:   ', test_labels.shape)"
   ]
  },
  {
   "cell_type": "markdown",
   "metadata": {},
   "source": [
    "Bir hatırlatma olarak, biçimlendirilmiş verilerin neye benzediğini burada bulabilirsiniz. İlk çalışma örneğinde, değişkenlerin doğal günlüğünü alarak, iki kategorik değişken içererek bir dizi özellik geliştirdik ve yüksek özellikli özellikleri kaldırarak bir özellik alt kümesi seçtik."
   ]
  },
  {
   "cell_type": "code",
   "execution_count": null,
   "metadata": {},
   "outputs": [],
   "source": [
    "train_features.head(12)"
   ]
  },
  {
   "cell_type": "markdown",
   "metadata": {},
   "source": [
    "Puan(Score) sütunu, makine öğrenim problemimiz için hedef olan Energy Yıldız Puanını içerir. Enerji Yıldız Puanının, bir binanın enerji verimliliğinin karşılaştırmalı bir ölçümü olduğu varsayılsa da, bunun birinci bölümde nasıl hesaplandığıyla ilgili sorunlar olabileceğini görmüştük!\n",
    "\n",
    "İşte Energy Yıldız Puanının dağıtımı"
   ]
  },
  {
   "cell_type": "code",
   "execution_count": null,
   "metadata": {},
   "outputs": [],
   "source": [
    "figsize(8, 8)\n",
    "\n",
    "#Enerji Yıldız Puanının Histogramı\n",
    "plt.style.use('fivethirtyeight')\n",
    "plt.hist(train_labels['score'].dropna(), bins = 100)\n",
    "plt.xlabel('Puan');\n",
    "plt.ylabel('Bina numaraları');\n",
    "plt.title('Enerji Yıldı Puanı Dağılımı');"
   ]
  },
  {
   "cell_type": "markdown",
   "metadata": {},
   "source": [
    "### Makine Öğrenim Modellerini Değerlendirme ve Karşılaştırma\n",
    "Bu bölümde, denetimli regresyon görevimiz için çeşitli makine öğrenme yöntemleri oluşturup, eğitecek ve değerlendireceğiz. Amaç, geliştirme için hangi modelin daha fazla faydalı olduğunu belirlemektir (hiperparametre ayarı gibi).\n",
    "\n",
    "Modelleri ortalama mutlak hata(MAE) metriğini kullanarak karşılaştırıyoruz. Puanın medyan değerini tahmin eden bir taban çizgisi modeli ortalama 25 puan olarak belirlendi.\n",
    "\n",
    "### Eksik Değerleri Etkilemek\n",
    "Standart makine öğrenim modelleri eksik değerlerle baş edemez ve bu da eksik değerleri olan herhangi bir özelliği doldurmak veya atmak için bir yol bulmamız gerektiği anlamına gelir. İlk kısımda% 50'den fazla eksik değer içeren özellikleri zaten kaldırdığımızdan, burada bu eksik değerleri doldurmaya odaklanacağız. İmputation için bir dizi yöntem var ama burada eksik değerleri sütunun ortancası ile değiştirmenin nispeten basit bir yöntemini kullanacağız. \n",
    "\n",
    "Aşağıdaki kodda, eksik değerleri sütunun medyanı ile doldurmak için bir Scikit Learn Imputer nesnesi oluşturuyoruz. Eğitim verisine (imputer.fit yöntemini kullanarak)değil, test verisine dikkat çektiğimize dikkat edin. Daha sonra hem eğitim verilerini hem de test verilerini dönüştürürüz (Imputer.transform kullanarak). Bu, test setindeki eksik değerlerin, eğitim setindeki ilgili sütunlarını medyan değeri ile doldurulduğu anlamına gelir. Bu şekilde yapmalıyız, çünkü konuşlandırma zamanında, önceki değerleri önceki eğitim verilerine dayanarak yeni gözlemlerde eksik değerler olarak kabul etmek zorundayız. Bu, test setindeki bilginin eğitim sürecine \"sızdığı\" veri sızıntısı olarak bilinen problemden kaçınmanın bir yoludur."
   ]
  },
  {
   "cell_type": "code",
   "execution_count": null,
   "metadata": {},
   "outputs": [],
   "source": [
    "#Medyan doldurma stratesisi ile bir imputer nesnesi oluşturuyoruz\n",
    "imputer = Imputer(strategy = 'median')\n",
    "\n",
    "#Eğitim özellikleri üzerine uyguluyoruz\n",
    "imputer.fit(train_features)\n",
    "\n",
    "#Eğitim Ve Test verilerini dönüştürüyoruz\n",
    "X = imputer.transform(train_features)\n",
    "X_test = imputer.transform(test_features)"
   ]
  },
  {
   "cell_type": "code",
   "execution_count": null,
   "metadata": {},
   "outputs": [],
   "source": [
    "print('Eğitim verileri içerisindeki kayıp değerler: ', np.sum(np.isnan(X)))\n",
    "print('Test verileri içerisindeki kayıp değerler:  ', np.sum(np.isnan(X_test)))"
   ]
  },
  {
   "cell_type": "code",
   "execution_count": null,
   "metadata": {},
   "outputs": [],
   "source": [
    "#Bütün Değerlerin sonlu olarak işlendiğinden emin olalım\n",
    "print(np.where(~np.isfinite(X)))\n",
    "print(np.where(~np.isfinite(X_test)))"
   ]
  },
  {
   "cell_type": "markdown",
   "metadata": {},
   "source": [
    "Denemeden sonra, tüm özellikler gerçek değerlidir. Daha sofistike yöntemler için (medyan değerler genellikle iyi çalışıyor olsa da) bu makaleye göz atın. \n",
    "[Link](https://www.tandfonline.com/doi/full/10.1080/1743727X.2014.979146)\n",
    "\n",
    "### Ölçekleme Özellikleri\n",
    "Modellerimizi kurabilmemiz için atmamız gereken son adım, özellikleri ölçeklendirmektir. Özelliklerin farklı birimlerde olması nedeniyle bu gereklidir, özellikleri normalleştirmek ve birimlerin algoritmayı etkilememesi için bunu yapmak gerekiyor. Doğrusal Regresyon ve Rastgele Orman(Random Forest) özellik ölçekleme gerektirmez, ancak destek vektör makineleri(SVM) ve k yakın komşuları(kMeans) gibi diğer yöntemler, gözlemler arasındaki öklid mesafesini hesaba kattığı için bunu gerektirir. Bu nedenle, çoklu algoritmaları karşılaştırırken özellikleri ölçeklemek en iyi uygulamadır.\n",
    "\n",
    "Özellikleri ölçeklendirmenin iki yolu vardır:\n",
    "\n",
    "    1. Her bir değer için, özelliğin ortalamasını çıkarın ve özelliğin standart sapmasına bölün. Bu standardizasyon olarak bilinir ve her özellik ortalama 0'a ve standart sapmaya 1 sahiptir.\n",
    "    2. Her bir değer için, özelliğin minimum değerini çıkartın ve maksimum eksi (özellik) için en düşük değere bölün. Bu durum, bir özellik için tüm değerlerin 0 ile 1 arasında olmasını ve bir aralık veya normalleştirmeye ölçeklendirilmesini sağlar.\n",
    "    \n",
    "İşte normalleşme ve standardizasyon hakkında [iyi bir makale](https://machinelearningmastery.com/normalize-standardize-machine-learning-data-weka/)\n",
    "\n",
    "Ölçüde olduğu gibi, ölçekleme nesnesini eğitirken sadece eğitim setini kullanmak istiyoruz. Özellikleri dönüştürdüğümüzde, hem eğitim setini hem de test setini değiştireceğiz."
   ]
  },
  {
   "cell_type": "code",
   "execution_count": null,
   "metadata": {},
   "outputs": [],
   "source": [
    "#0-1 değerlerinde bir ölçeklendirme nesnesi oluşturuyoruz\n",
    "scaler = MinMaxScaler(features_range=(0, 1))\n",
    "\n",
    "#Eğitim Verilerine uyguluyoruz\n",
    "scaler.fit(X)\n",
    "\n",
    "#Eğitim ve Test Verilrini dönüştürüyoruz\n",
    "X = scaler.transform(X)\n",
    "X_test = scaler.transform(X_test)"
   ]
  },
  {
   "cell_type": "code",
   "execution_count": null,
   "metadata": {},
   "outputs": [],
   "source": [
    "#Y'yi tek boyutlu vektöre dönüştürüyoruz\n",
    "y = np.array(train_labels((-1, ))\n",
    "y_test = np.array(test_labels).reshape((-1, ))\n"
   ]
  },
  {
   "cell_type": "markdown",
   "metadata": {},
   "source": [
    "### Değerlendirilecek Modeller\n",
    "Harika Scikit-Learn kütüphanesini kullanarak beş farklı makine öğrenim modelini karşılaştıracağız:\n",
    "\n",
    "    1.Doğrusal Regresyon(Linear Regression)\n",
    "    2.Destek Vektör Makinesi Regresyon(Support Vector Machine)\n",
    "    3.Rastgele Orman Regresyonu(Random Forest Regression)\n",
    "    4.Eğim Artırıcı Regresyon(Gradient Boosted REgression)\n",
    "    5.K-En Yakın Komşular Regresyonu(K-Nearest Neighbors Regression)\n",
    "\n",
    "Yine burada, bu modellerin nasıl çalıştığını açıklamak yerine uygulamaya odaklanıyoruz. Makine Öğrenim Modeline ek olarak, ekteki kaynağın faydalı olabileceğini düşünüyorum.(bu ücretsizdir), [İstatistiksel Öğrenmeye Giriş](http://www-bcf.usc.edu/~gareth/ISL/)\n",
    "\n",
    "\n",
    "Modelleri karşılaştırmak  ve model hipermetreleri için çoğunlukla Scikit-Learn varsayılanlarını kullanacağız. Genel olarak bunlar düzenli bir performans sergileyecek, ancak bir model kullanmadan önce optimize edilmelidir. İlk başta, her modelin temel performansını belirlemek istiyoruz ve daha sonra hiperparametre ayarını kullanarak daha fazla optimizasyon için en iyi performans modelini seçiyoruz. Varsayılan hiperparametrelerin bir model oluşturup çalışacağını hatirlayalım, ancak problemimizde en iyi ayarları bulmak için hemen hemen her zaman bir çeşit arama kullanılarak  ilgili parametreler ayarlanmalıdır!\n",
    "\n",
    "İşte Scikit-learn belgelerinin varsayılanlar hakkında söylediği şey:\n",
    "\n",
    "__Sensible defaults__: Bir işlem her kullanıcı tarafından tanımlanmış bir parametre gerektirdiğinde,\n",
    "Uygun bir varsayılan değer kütüphane tarafından tanımlanır. Varsayılan değer\n",
    "Operasyonun mantıklı bir şekilde gerçekleştirilmesine neden olmalıdır (Eldeki görev için çözüm.)\n",
    "\n",
    "Scikit-learn kütüphanesinin en iyi yönlerinden biri, tüm modellerin aynı şekilde uygulanmış olmasıdır: bir kez nasıl inşa edeceğinizi bildikten sonra, çok çeşitli modeller dizisi uygulayabilirsiniz. Burada sadece birkaç satırlık kodda bir dizi model için tüm eğitim ve test prosedürlerini uygulayacağız."
   ]
  },
  {
   "cell_type": "code",
   "execution_count": null,
   "metadata": {},
   "outputs": [],
   "source": [
    "#Mutlak Ortalama Hatasını(MAE) hesaplama foksiyonu\n",
    "def mae(y_true, y_pred):\n",
    "    return np.mean(abs(y_true - y_pred))\n",
    "\n",
    "#Bir Model alıp, modeli eğitip, hesplayıp ve test edeceğiz\n",
    "def fit_and_evaluate(model):\n",
    "    #Modeli Eğitiyoruz\n",
    "    model.fit(X, y)\n",
    "    \n",
    "    #Modeli Tahmin edip hesaplıyoruz\n",
    "    model_pred = model.predict(X_test)\n",
    "    model_mae =mae(y_test, model_pred)\n",
    "    \n",
    "    #Performans metriğine geri dönüyoruz\n",
    "    return model_mae\n"
   ]
  },
  {
   "cell_type": "code",
   "execution_count": null,
   "metadata": {},
   "outputs": [],
   "source": [
    "lt = LinearRegression()\n",
    "lr_mae = fit_and_evaluate(lr)\n",
    "\n",
    "print('Test Verileri üzerinde Doğrusal Regrasyon Performansı : MAE = %0.4f' % lr_mae)"
   ]
  },
  {
   "cell_type": "code",
   "execution_count": null,
   "metadata": {},
   "outputs": [],
   "source": [
    "svm = SVR(C = 1000, gamma = 0.1)\n",
    "svm_mae = fit_and_evaluate(svm)\n",
    "\n",
    "print('Test Verileri üzerinde Destek Vektör makinesi Regrasyon Performansı : MAE = %0.4f' % svm_mae)"
   ]
  },
  {
   "cell_type": "code",
   "execution_count": null,
   "metadata": {},
   "outputs": [],
   "source": [
    "random_forest = RandomForestRegressor(random_state=60)\n",
    "random_forest_mae = fit_and_evaluate(random_forest)\n",
    "\n",
    "print('Test Verileri üzerinde Rastgele Orman Regrasyon Performansı : MAE = %0.4f' % random_forest_mae)"
   ]
  },
  {
   "cell_type": "code",
   "execution_count": null,
   "metadata": {},
   "outputs": [],
   "source": [
    "gradient_boosted = GradientBoostingRegressor(random_state=60)\n",
    "gradient_boosted_mae = fit_and_evaluate(gradient_boosted)\n",
    "\n",
    "print('Test Verileri üzerinde Eğim Artırıcı Regresyon Performansı MAE = %0.4f' % gradient_boosted_mae)"
   ]
  },
  {
   "cell_type": "code",
   "execution_count": null,
   "metadata": {},
   "outputs": [],
   "source": [
    "knn = KNeighborsRegressor(n_neighbors=10)\n",
    "knn_mae = fit_and_evaluate(knn)\n",
    "\n",
    "print('Test verileri üzerinde K-Nearest Neighbors(En Yakın Komşu) Regression Performansı : MAE = %0.4f' % knn_mae)"
   ]
  },
  {
   "cell_type": "code",
   "execution_count": null,
   "metadata": {},
   "outputs": [],
   "source": [
    "plt.style.use('fivethirtyeight')\n",
    "figsize(8, 6)\n",
    "\n",
    "#Sonuçları veriçerçevesinde tutuyoruz\n",
    "model_comparison = pd.DataFrame({'model' : ['Linear Regression', 'Support Vector Machine',\n",
    "                                            'Random Forest', 'Gradient Boosted', 'K-Nearest Neighbors'],\n",
    "                                'mae' : [lr_mae, svm_mae, random_forest_mae, gradien_boosted_mae,\n",
    "                                        knn_mae]})\n",
    "#Test mae için Yatay  grafik çubuğu \n",
    "model_comparison.sort_values('mae', ascending = False).plot(x = 'model', y = 'mae', kind = 'barh',\n",
    "                                                           color = 'red', edgecolor = 'black')\n",
    "\n",
    "#Biçimlendirme işlemini çizdiriyoruz\n",
    "plt.ylabel(''); plt.ysticks(size = 14); \n",
    "plt.xlabel('Mutlak Ortalama Hata'); plt.xticks(size = 14)\n",
    "plt.title('Test MAE üzerinde Model karşılaştırma işlemi', size = 20);\n"
   ]
  },
  {
   "cell_type": "markdown",
   "metadata": {},
   "source": [
    "Koşula bağlı olarak (tam sonuçlar her seferinde hafifçe değişir), gradyan(eğim) artırma regresörü en iyi olanı rasgele ormanı izler. Bunun en adil karşılaştırma olmadığını kabul etmeliyim, çünkü çoğunlukla varsayılan hipermetreler kullanıyoruz. Özellikle Destek Vektör Regresörü ile hipermetreler, performans üzerinde önemli bir etkiye sahiptir. (rastgele orman ve eğim(gradient) yükseltme yöntemleri, performansın model ayarlarına daha az bağımlı olması nedeniyle başlatılmak için mükemmeldir). Bununla birlikte, bu sonuçlardan, makine modelinin uygulanabilir olduğu sonucuna varabiliriz çünkü tüm modeller ana hattan önemli ölçüde daha iyi performans gösterir!\n",
    "\n",
    "Buradan, hyperparameter ayarını kullanarak en iyi modeli optimize etmeye konsantre olacağız. Buradaki sonuçlar göz önüne alındığında, GradientBoostingRegressor'u kullanmaya konsantre olacağız. Bu, son birkaç yılda birçok Kaggle yarışmalarını kazanan Gradient Boosted Trees'ın Scikit-Learn uygulamasıdır. Scikit-Learn sürümü genellikle XGBoost versiyonundan daha yavaştır, ancak burada söz dizimi daha tanıdık olduğundan Scikit-Learn'e bağlıyız. İşte, XGBoost paketinde uygulamayı kullanmak için birkaç link.\n",
    "\n",
    "[link XGBoost](http://matthewemery.ca/Why-Kagglers-Love-XGBoost/)\n",
    "[link Gradient Boosting](http://www.ccs.neu.edu/home/vip/teach/MLcourse/4_boosting/slides/gradient_boosting.pdf)\n",
    "[link Kaggle Eğitim](https://www.kaggle.com/dansbecker/learning-to-use-xgboost)"
   ]
  },
  {
   "attachments": {
    "kfold_cv.png": {
     "image/png": "[encoded data removed]"
    }
   },
   "cell_type": "markdown",
   "metadata": {},
   "source": [
    "### Model Optimizasyonu\n",
    "Makine öğrenmesinde, bir modeli optimize etmek, belirli bir problem için en iyi hipermetre setini bulmak anlamına gelir.\n",
    "\n",
    "##### Hiper Parametreler(Hyperparameters)\n",
    "İlk olarak, model hipermetrelerinin ve model parametrelerinin ne olduğunu anlamaya ihtiyacımız var:\n",
    "\n",
    "   - Model hipermetreleri, eğitimden önce veri bilimcisi tarafından ayarlanan bir makine öğrenme algoritması ayarları olarak düşünülür. Örnekler rastgele ormandaki ağaç sayısı veya K En Yakın Komşular Regresyonunda kullanılan komşuların sayısı olabilir.\n",
    "   - Model parametreleri, modelin doğrusal regresyondaki ağırlıklar gibi eğitim sırasında neler öğrendiğidir.\n",
    "   \n",
    "Veribilimcilerin bir modeli hiperparametreleri seçerek kontrol etmelerini sağlıyoruz ve bu seçimler, modelin nihai performansı üzerinde önemli bir etkiye sahip olabilir (genellikle daha fazla veri veya mühendislik özelliği elde etmek gibi bir etki kadar büyük olmamakla birlikte).\n",
    "\n",
    "Modelin hipermetrelerinin ayarlanması, bir modelde birbirine geçmenin dengesini kontrol eder. Rasgele bir ormanda daha fazla ağaç kullanmak veya derin bir sinir ağında daha çok katman kullanmak gibi daha karmaşık bir model oluşturarak yetersiz uyumu düzeltmeye çalışabiliriz. Uygun bir model, yüksek önyargıya sahiptir ve modelimiz, özellikler ve hedef arasındaki ilişkiyi öğrenmek için yeterli kapasiteye (serbestlik derecesi) sahip olmadığı zaman ortaya çıkar. Modelin karmaşıklığını sınırlandırarak ve düzenli hale getirerek aşırı donatmayı düzeltmeye çalışabiliriz. Bu, bir polinom regresyonunun derecesinin azaltılması ya da derin nöral bir ağa bırakma katmanlarının eklenmesi anlamına gelebilir. Overfits bir modelin yüksek varyansı vardır ve aslında eğitim setini ezberlemiştir. Hem underfitting hem de overfitting, test setindeki zayıf genelleme performansına yol açar.\n",
    "\n",
    "Hiperparametrelerin seçilmesindeki problem, hiçbir setin tüm sorunlarda en iyi sonuç vermeyeceğidir. Bu nedenle, her yeni veri kümesi için en iyi ayarları bulmamız gerekiyor. Bu, zaman alıcı bir süreç olabilir, ancak neyse ki bu prosedürü Scikit-Learn'de gerçekleştirmek için birkaç seçenek vardır. Daha da iyisi, epistasis laboratuarları tarafından TPOT gibi yeni kütüphaneler, sizin için otomatik olarak bu işlemi yapmayı hedefliyor! Şimdilik, bunu Scikit-Learn'de manuel olarak yapmaya devam edeceğiz, ancak otomatik model seçimi ile ilgili bir makale için [link](https://epistasislab.github.io/tpot/)\n",
    "\n",
    "## Rastgele Arama ve Çapraz Doğrulama ile Hipermetre Ayarı\n",
    "Rastgele arama ve çapraz doğrulama yoluyla bir model için en iyi hiperparametreleri seçebiliriz.\n",
    "\n",
    "Rastgele arama, değerlendirmek için hipermetreler seçtiğimiz yöntemi ifade eder: bir dizi seçenekleri tanımlar ve sonra denemek için rasgele kombinasyonları seçeriz. Bu, belirttiğimiz her bir kombinasyonu değerlendiren grid aramanın tersidir. Genel olarak, rastgele arama, en iyi model hipermetrelerle ilgili sınırlı bilgiye sahip olduğumuzda daha iyidir ve seçenekleri daraltmak için rasgele aramayı kullanabilir ve ardından daha sınırlı bir seçenek aralığına sahip grid aramasını kullanabiliriz.\n",
    "\n",
    "Çapraz doğrulama, hiperparametrelerin performansını değerlendirmek için kullanılan yöntemdir. Eğitim setini, kullanabileceğimiz eğitim verilerinin miktarını azaltan ayrı eğitim ve doğrulama setlerine ayırmak yerine, K-Fold Cross Validation'ı kullanıyoruz. Bu, eğitim verilerinin K katlarına bölünmesi ve daha sonra kıvrımların K-1'i üzerinde ilk önce eğitim yaptığımız ve daha sonra kth katındaki performansı değerlendirdiğimiz yinelemeli bir süreçten geçmesi anlamına gelir. Bu süreci K kere tekrarlıyoruz, sonuç olarak, eğitim verisinde her örnek üzerinde test ettiğimiz her bir testin, üzerinde durmadığımız veriler üzerinde test ettiğimiz anahtarla test edeceğiz. K-katlama çapraz doğrulamasının sonunda, son ivme ölçüsü olarak K tekrarlamalarının her birinde ortalama hatayı alıp, tüm eğitim verilerinin modelini bir kerede eğitiyoruz. Kaydettiğimiz performans daha sonra hiperparametrelerin farklı kombinasyonlarını karşılaştırmak için kullanılır. K = 5 kullanılarak k-kat çapraz doğrulamanın bir resmi aşağıda gösterilmiştir:\n",
    "\n",
    "![kfold_cv.png](attachment:kfold_cv.png)\n",
    "\n",
    "Burada gradyan artırma regresörü ve optimal hiperparametreler seçmek için çapraz doğrulama ile rasgele arama uygulayacağız. Öncelikle bir ızgarayı(grid) tanımlarız ve sonra bu durum tekrarlayan bir süreç oluşturur: Şebekeden rasgele bir hiperparametreler kümesini örneklenir, 4-kat çapraz doğrulama kullanarak hiperparametreleri değerlendirlendirilir ve daha sonra en iyi performans ile hiperparametreler seçilir.\n",
    "\n",
    "Elbette bu yinelemeyi kendimiz yapmıyoruz, Scikit-Learn ve RandomizedSearchCV'nin bizim için süreci yapmasına izin veriyoruz!"
   ]
  },
  {
   "cell_type": "code",
   "execution_count": null,
   "metadata": {},
   "outputs": [],
   "source": [
    "#Kayıp Fonksiyonu optimize(en uygun hale getiriyoruz)\n",
    "loss = ['ls', 'lad', 'huber']\n",
    "\n",
    "#Artırma işleminde kullanılan  ağaç sayısı\n",
    "n_estimators = [100, 500, 900, 1100, 1500]\n",
    "\n",
    "#Her bir ağacın maksimum derinliği\n",
    "max_depth =[2, 3, 5, 10, 15]\n",
    "\n",
    "#Her bir yaprak için minimum örnek sayısı\n",
    "min_samples_leaf = [1, 2, 4, 6, 8]\n",
    "\n",
    "#node'lardan ayrılan örneklerin minimum  numaraları\n",
    "min_samples_split = [2, 4, 6, 10]\n",
    "\n",
    "# Bölümleri yapmak  için dikkate alınacak maksimum özellik sayısı\n",
    "max_features = ['auto', 'sqrt', 'log2', None]\n",
    "\n",
    "#Hiperparemetreleri aramak için bir grid tanımlıyoruz\n",
    "hyperparameter_grid = {'loss': loss,\n",
    "                       'n_estimators': n_estimators,\n",
    "                       'max_depth': max_depth,\n",
    "                       'min_samples_leaf': min_samples_leaf,\n",
    "                       'min_samples_split': min_samples_split,\n",
    "                       'max_features': max_features}"
   ]
  },
  {
   "cell_type": "markdown",
   "metadata": {},
   "source": [
    "Eğim artırıcı regresörü ayarlamak için 6 farklı hiperparametre seçtik. Bunların hepsi, modelin zamanını önceden belirlemenin zor olduğu farklı şekillerde etkileyecek ve belirli bir problem için en iyi kombinasyonu bulmanın tek yolu onları test etmektir! Hipermetreler hakkında bilgi edinmek için, Scikit-Learn belgelerine bir göz atmanızı öneriyorum. Şimdilik, en iyi hipermetreler kombinasyonunu bulmaya çalıştığımızı ve bize en iyi çalışacakları bir teori olmadığından, sadece bir deneme yapmak gibi bunları değerlendirmemiz gerektiğini biliyoruz.\n",
    "\n",
    "Kodumuz ile, aşağıdaki parametrelerden geçen Randomized Search Object'i oluşturuyoruz.\n",
    "\n",
    "    tahmincisi: model\n",
    "    param_distributions: tanımladığımız parametrelerin dağılımı\n",
    "    k katlama çapraz doğrulaması için kullanılacak kat sayısı\n",
    "    n_iter: denenecek farklı kombinasyonların sayısı\n",
    "    puanlama: adayları değerlendirirken kullanılacak metrik\n",
    "    n_jobs: paralel olarak çalışacak çekirdek sayısı (-1 tüm uygun olanlar kullanılabilir)\n",
    "    ayrıntılı: görüntülenecek ne kadar bilgi (1 sınırlı bir miktar gösterir)\n",
    "    return_train_score: her çapraz doğrulama katlaması için eğitim puanını döndür\n",
    "    random_state: kullanılan rasgele sayı üreticisini düzeltir, böylece her koşuda aynı sonuçları alırız\n",
    "\n",
    "Randomize Arama Nesnesi, diğer scikit-learn modelleriyle aynı şekilde eğitilmiştir. Eğitimden sonra, tüm farklı hiperparametre kombinasyonlarını karşılaştırabilir ve en iyi performansa sahip olanı bulabiliriz."
   ]
  },
  {
   "cell_type": "code",
   "execution_count": null,
   "metadata": {},
   "outputs": [],
   "source": [
    "#Hiperparametre ayarlamak için bir model oluşturuyoruz\n",
    "model = GradientBoostingRegressor(random_state = 42)\n",
    "\n",
    "#4-fold çapraz doğrulama için rastgele aramayı ayarlıyoruz\n",
    "random_cv = RandomizedSearchCV(estimator = model,\n",
    "                              param_distributions = hyperparameter_grid,\n",
    "                              cv = 4, n_iter = 25,\n",
    "                              scoring = 'neg_mean_absolute_error',\n",
    "                              n_jobs = -1, verbose = 1,\n",
    "                              return_train_score = True,\n",
    "                              random_state = 42)\n"
   ]
  },
  {
   "cell_type": "code",
   "execution_count": null,
   "metadata": {},
   "outputs": [],
   "source": [
    "# Eğitim verisine uyguluyoruz\n",
    "random_cv.fit(X, y)"
   ]
  },
  {
   "cell_type": "markdown",
   "metadata": {},
   "source": [
    "Scikit-learn, değerlendirme için negatif ortalama mutlak hatasını kullanır çünkü bir metriği en üst düzeye çıkarmak ister. Bu nedenle, daha iyi bir puan 0'a yakın olacaktır. Rastgele arama sonuçlarını bir veri çerçevesine alabiliriz ve değerleri performansa göre sıralayabiliriz."
   ]
  },
  {
   "cell_type": "code",
   "execution_count": null,
   "metadata": {},
   "outputs": [],
   "source": [
    "Bütün Cv sonuçlarını alıp test performanslarına göre sıralıyoruz\n",
    "random_results = pd.DataFrame(random_cv.cv_results_).sort_values('mean_test_score', ascending = False)\n",
    "\n",
    "random_results.head(10)"
   ]
  },
  {
   "cell_type": "code",
   "execution_count": null,
   "metadata": {},
   "outputs": [],
   "source": [
    "random_cv.best_estimator_"
   ]
  },
  {
   "cell_type": "markdown",
   "metadata": {},
   "source": [
    "En iyi eğim artırma modeli(gradient boosted model) aşağıdaki parametreler ile elde ediliyor:\n",
    "\n",
    "DİKKATTT bu değerler çıktı sonuçlarına göre düzenlenecek\n",
    "\n",
    "loss = lad\n",
    "n_estimators = 500\n",
    "max_depth = 5\n",
    "min_samples_leaf = 6\n",
    "min_samples_split = 6\n",
    "max_features = None (This means that max_features = n_features according to the docs)"
   ]
  },
  {
   "cell_type": "markdown",
   "metadata": {},
   "source": [
    "Rastgele arama kullanmak, denemek için olası hiperparametreleri daraltmak adına iyi bir yöntemdir. Başlangıçta, hangi kombinasyonun en iyi işe yarayacağı hakkında hiçbir fikrimiz yoktu, ama bu en azından seçeneklerimizi  azaltıyor.\n",
    "\n",
    "Rastgele arama sonuçları, rasgele arama sırasında en iyi çalışanlara yakın hipermetrelerle bir grid oluşturarak bir şebeke aramasını bildirmek için kullanabiliriz. Ancak, tüm bu ayarları tekrar değerlendirmek yerine, ormandaki ağaçlara (n_estimatörler)'e yani tek bir noktaya odaklanacağım. Sadece bir hiperparametre değiştirerek, performansı nasıl etkilediğini doğrudan gözlemleyebiliriz. Ağaçların sayısının fazla olması durumunda, aşırı havaya kaçma miktarında önemli bir etki görmeyi bekliyoruz.\n",
    "\n",
    "Burada sadece n_estimators hiperparametreye sahip bir grid ile ızgara arama(grid search) kullanacağız. Bir dizi ağaç değerlendireceğiz ve daha sonra modelimizin ağaç sayısını arttırmanın ne olduğuna dair bir fikir edinmek için eğitim ve test performansını çizdirelim. Ağaç etkisinin sayısını azaltmak için diğer hiperparametrelerin rasgele aramayla döndürülen en iyi değerlere sabitlenmesini sağlayacağız."
   ]
  },
  {
   "cell_type": "code",
   "execution_count": null,
   "metadata": {},
   "outputs": [],
   "source": [
    "#Ağaçları hesaplamak için bir aralık belirliyoruz\n",
    "trees_grid = {'n_estimators': [100, 150, 200, 250, 300, 350, 400, 450, 500, 550, 600, 650, 700, 750, 800]}\n",
    "\n",
    "model = GradientBoostRegressor(loss = 'lad', max_depth = 5,\n",
    "                              min_samples_leaf = 6,\n",
    "                              min_samples_split = 6,\n",
    "                              max_features = None,\n",
    "                              random_state = 42)\n",
    "\n",
    "#Ağaç aralığını ve rastgele orman modelini kullanan Izgara Arama Nesnesi\n",
    "grid_search = GridSearchCV(estimator = model, param_grid = trees_grid, cv = 4,\n",
    "                          scoring = 'neg_mean_absolute_error', verbose = 1,\n",
    "                          n_jobs = -1, return_train_score = True)\n"
   ]
  },
  {
   "cell_type": "code",
   "execution_count": null,
   "metadata": {},
   "outputs": [],
   "source": [
    "#grid search uyarlıyoruz\n",
    "grid_search.fit(X, y)"
   ]
  },
  {
   "cell_type": "code",
   "execution_count": null,
   "metadata": {},
   "outputs": [],
   "source": [
    "#Veri seti içindeki sonuçları alıyoruz\n",
    "results = pd.DataFrame(grid_search.cv_results_)\n",
    "\n",
    "# Ağaç sayılarının eğitim ve test hatalarının çizdiriyoruz\n",
    "figsize(8, 8)\n",
    "plt.style.use('fivethirtyeight')\n",
    "plt.plot(results['param_n_estimators'], -1 * results['mean_test_score'], label = 'Testing Error')\n",
    "plt.plot(results['param_n_estimators'], -1 * results['mean_train_score'], label = 'Training Error')\n",
    "plt.xlabel('Ağaç Sayısı'); plt.ylabel('Mutlak Ortalama Hata'); plt.legend();\n",
    "plt.title('Ağaçların Performansı Eğrisi');"
   ]
  },
  {
   "cell_type": "markdown",
   "metadata": {},
   "source": [
    "results.sort_values('mean_test_score', ascending = False).head(5)"
   ]
  },
  {
   "cell_type": "markdown",
   "metadata": {},
   "source": [
    "DİKKATT-Sonuçlara göre yorumu düzenleyeceğiz\n",
    "Bu sonuçlarda, modelimizin aşırı derecede uygun olduğu gayet açık! Eğitim hatası, test hatasından önemli ölçüde daha düşüktür, bu da modelin eğitim verilerini çok iyi öğrendiğini, ancak test verilerini de genelleştiremediğini gösterir. Taşınma, ağaç sayısı arttıkça, aşırı yakma miktarı artar. Ağaç sayısı arttıkça hem test hem de eğitim hatası azalır, ancak eğitim hatası daha hızlı azalır.\n",
    "\n",
    "Eğitim hatası ile test hatası arasında her zaman bir fark olacaktır (eğitim hatası her zaman daha düşüktür), fakat eğer önemli bir fark varsa, daha fazla eğitim verisi alarak ya da modelin karmaşıklığını azaltarak aşırı takmayı denemek ve azaltmak istiyoruz. Hiperparametre ayarlaması veya düzenlenmesi ile eğim artırıcı regresör için, bazı seçenekler; ağaç sayısını azaltmak, her ağacın maksimum derinliğini azaltmak ve bir yaprak düğümündeki minimum örnek sayısını arttırmaktır. Gradient artırma regresörü için daha fazla bilgi edinmek isteyen herkes için harika bir makale aşağıda verilmiştir. Şimdilik modeli en iyi performansla kullanacağız ve eğitim setine yakışabileceğini kabul edeceğiz.\n",
    "\n",
    "Çapraz doğrulama sonuçlarına dayanarak, en iyi model 800 ağaç kullanır ve 9'un altında bir çapraz doğrulama hatası elde eder. Bu, Energy Star Skorunun ortalama çapraz doğrulama tahmininin gerçek cevabın 9 puanı içinde olduğunu gösterir!\n",
    "\n",
    "[gradient boosting regressor,](https://www.quora.com/How-do-you-correct-for-overfitting-for-a-Gradient-Boosted-Machine)\n",
    "[Güzel bir makale](http://blog.kaggle.com/2017/01/23/a-kaggle-master-explains-gradient-boosting/)\n",
    "\n",
    "##  Seçtiğimiz Modeli Test Setinde Değerlendiriyoruz\n",
    "Test setinde tahmin yapmak için hiperparametre ayarından en iyi modeli kullanacağız. Unutmayın, modelimiz test setindeki verileri daha önce hiç görmemişti, bu yüzden bu performans, modelin gerçek dünyada konuşlandırıldığında nasıl bir performans sergileyeceğinin iyi bir göstergesi olmalıdır.\n",
    "\n",
    "Karşılaştırma için, varsayılan modelin performansına da bakabiliriz. Aşağıdaki kod, son modeli oluşturur, onu (zamanlama ile) eğitir ve test setinde değerlendirir."
   ]
  },
  {
   "cell_type": "code",
   "execution_count": null,
   "metadata": {},
   "outputs": [],
   "source": [
    "#Varsayılan model\n",
    "default_model = GradientBoostingRegressor(random_state = 42)\n",
    "\n",
    "#En iyi modeli seçiyoruz\n",
    "final_model = grid_search.best_estimator_\n",
    "\n",
    "final_model"
   ]
  },
  {
   "cell_type": "code",
   "execution_count": null,
   "metadata": {},
   "outputs": [],
   "source": [
    "%%timeit -n 1 -r 5\n",
    "default_model.fit(X, y)"
   ]
  },
  {
   "cell_type": "code",
   "execution_count": null,
   "metadata": {},
   "outputs": [],
   "source": [
    "%%timeit -n 1 -r 5\n",
    "final_model.fit(X, y)"
   ]
  },
  {
   "cell_type": "code",
   "execution_count": null,
   "metadata": {},
   "outputs": [],
   "source": [
    "default_pred = default_model.predict(X_test)\n",
    "final_pred = final_model.predict(X_test)\n",
    "\n",
    "print('Test verileri üzerinde Varsayılan model performansı: MAE = %0.4f.' % mae(y_test, default_pred))\n",
    "print('Test verileri üzerinde Seçtiğimiz modelin performansı :   MAE = %0.4f.' % mae(y_test, final_pred))"
   ]
  },
  {
   "cell_type": "markdown",
   "metadata": {},
   "source": [
    "Son model, taban çizgisi modelini yaklaşık% 10 oranında gerçekleştirir, ancak çalışma süresinin önemli ölçüde artmasıyla (makinemde yaklaşık 12 kat daha yavaş). Makine öğrenimi genellikle bir zorunluluk alanıdır: sapma vs varyans, akıcılık vs yorumlanabilirlik, doğruluk ile çalışma süresi ve hangi modelin kullanılacağına dair nihai karar duruma bağlıdır. Burada, çalışma süresindeki artış bir engel değildir, çünkü nispi farklılık büyük iken, eğitim süresinin mutlak büyüklüğü önemli değildir. Farklı bir durumda, denge aynı olmayabilir, bu yüzden optimizasyon için ne yaptığımızı ve üzerinde çalışmak zorunda olduğumuz sınırlamaları göz önünde bulundurmalıyız.\n",
    "\n",
    "Tahminleri anlamak için test setindeki gerçek değerlerin dağılımını ve test setindeki tahmini değerleri çizebiliriz."
   ]
  },
  {
   "cell_type": "code",
   "execution_count": null,
   "metadata": {},
   "outputs": [],
   "source": [
    "figsize(8, 8)\n",
    "\n",
    "# Test verileri üzerinde final tahminler ve yoğunluk grafiği\n",
    "sns.kdeplot(final_pred, label = 'Predictions')\n",
    "sns.kdeplot(y_test, label = 'Values')\n",
    "\n",
    "# Çizimin etiketleri\n",
    "plt.xlabel('Enerji Yıldız Puanı'); \n",
    "plt.ylabel('Yoğunluk');\n",
    "plt.title('Tahminler ve Test Değerleri');"
   ]
  },
  {
   "cell_type": "markdown",
   "metadata": {},
   "source": [
    "Dağılım, tahmin edilen değerlerin yoğunluğunun, 100 değerindeki gerçek zirveden ziyade test değerlerinin ortancaya yakın olmasına rağmen, neredeyse aynı görünmektedir. Görünüşe göre, model, aşırı değerleri tahmin etmede daha az doğru olabilir ve bunun yerine değerleri tahmin eder. medyan daha yakın.\n",
    "\n",
    "Diğer bir tanı planı, artıkların histogramıdır. İdeal olarak, artıkların normal olarak dağılmasını umarız, yani modelin her iki yönünde de aynı miktarda yanlış olmasını bekleriz."
   ]
  },
  {
   "cell_type": "code",
   "execution_count": null,
   "metadata": {},
   "outputs": [],
   "source": [
    "figsize = (6, 6)\n",
    "\n",
    "# Kalıntıları hesaplıyoruz(residual)\n",
    "residuals = final_pred - y_test\n",
    "\n",
    "# Kalıntıların histogramını çizdiriyoruz\n",
    "plt.hist(residuals, color = 'red', bins = 20,\n",
    "         edgecolor = 'black')\n",
    "plt.xlabel('Hata'); \n",
    "plt.ylabel('Sayı')\n",
    "plt.title('Artıkların Dağılımı');"
   ]
  },
  {
   "cell_type": "markdown",
   "metadata": {},
   "source": [
    "Kalıntılar, normal dağılıma yakındır, düşük uçta birkaç fark edilebilir aykırı durumlar olabilir. Bunlar, model tahmininin gerçek değerin çok altında olduğu hataları gösterir.\n",
    "\n",
    "### Sonuç \n",
    "Bu çalışmamızda, makine öğrenme  aşamalarının önemli kavramlarını ele aldık:\n",
    "\n",
    "  - Eksik değerlerin eklenmesi\n",
    "  - Çeşitli makine öğrenme yöntemlerinin değerlendirilmesi ve karşılaştırılması\n",
    "  - Rasgele arama ve çapraz doğrulama kullanarak bir makine öğrenme modeli için hiperparametre ayarlama\n",
    "  - Test setindeki en iyi modelin değerlendirilmesi\n",
    "\n",
    "Sonuçlar bize, makine öğreniminin problemimize uygulanabileceğini, son modelin bir binanın Enerji Yıldızı Puanını 9.1 puan olarak tahmin edebildiğini gösterdi. Ayrıca, hyperparamter tuning'in, modelin performansını iyileştirmek için zaman harcadığı ve zaman açısından önemli bir maliyete sahip olduğunu da gördük. Bu, uygun özellik mühendisliğinin ve daha fazla veri toplamanın (mümkünse!) modelin ince ayarından çok daha büyük bir ödeme yapmasının iyi bir hatırlatıcısıdır. Makine öğrenim modellerini tasarlarken göz önünde bulundurmamız gereken pek çok faktörden biri olan, zamana karşı çalışma zamanındaki doğruluğu da gözlemledik.\n",
    "\n",
    "Modelimizin doğru olduğunu biliyoruz, ancak tahminlerin neden yapıldığını biliyor muyuz? Makine öğrenim sürecindeki bir sonraki adım çok önemlidir: modelin tahminleri nasıl yaptığını anlamaya çalışmak ve yüksek doğruluk elde etmek harikadır, ancak modelin neden doğru bir şekilde tahmin edilebileceğini anlayabildik mi, bu bilgiyi problemi daha iyi anlamak için kullanabileceğimiz konusunda da yardımcı olabiliriz. Örneğin, model Enerji Yıldızı Puanını bulmak için hangi özelliklere güveniyor? Bu modeli özellik seçimi için kullanmak ve daha yorumlanabilir olan daha basit bir model uygulamak mümkün mü?\n",
    "\n",
    "Son çalışmamızda, bu soruları yanıtlamaya ve projeden nihai sonuçları çıkarmaya çalışacağız!"
   ]
  }
 ],
 "metadata": {
  "kernelspec": {
   "display_name": "Python 3",
   "language": "python",
   "name": "python3"
  },
  "language_info": {
   "codemirror_mode": {
    "name": "ipython",
    "version": 3
   },
   "file_extension": ".py",
   "mimetype": "text/x-python",
   "name": "python",
   "nbconvert_exporter": "python",
   "pygments_lexer": "ipython3",
   "version": "3.6.4"
  }
 },
 "nbformat": 4,
 "nbformat_minor": 2
}
